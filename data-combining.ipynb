{
 "metadata": {
  "name": "",
  "signature": "sha256:e3a0d688c0818cb2a2bc512b783cd698ce4b0993be3015c3800e340862d57d50"
 },
 "nbformat": 3,
 "nbformat_minor": 0,
 "worksheets": [
  {
   "cells": [
    {
     "cell_type": "code",
     "collapsed": false,
     "input": [
      "%matplotlib inline\n",
      "\n",
      "import json\n",
      "import pandas as pd\n",
      "import numpy as np\n",
      "import matplotlib.pyplot as plt\n",
      "\n",
      "plt.style.use('ggplot')"
     ],
     "language": "python",
     "metadata": {},
     "outputs": [],
     "prompt_number": 1
    },
    {
     "cell_type": "code",
     "collapsed": false,
     "input": [
      "a = pd.read_csv('world_cup_2015_games.csv')\n",
      "matches = a.match_id.values"
     ],
     "language": "python",
     "metadata": {},
     "outputs": [],
     "prompt_number": 2
    },
    {
     "cell_type": "code",
     "collapsed": false,
     "input": [
      "matches[0]"
     ],
     "language": "python",
     "metadata": {},
     "outputs": [
      {
       "metadata": {},
       "output_type": "pyout",
       "prompt_number": 3,
       "text": [
        "656493"
       ]
      }
     ],
     "prompt_number": 3
    },
    {
     "cell_type": "code",
     "collapsed": false,
     "input": [
      "def f(i):\n",
      "    return i['bat'], i['bowl'], i['o_u'], i['ovr'], i['r'], i['r_t'], i['x'], i['y'], i['z'], i['comm']"
     ],
     "language": "python",
     "metadata": {},
     "outputs": [],
     "prompt_number": 4
    },
    {
     "cell_type": "code",
     "collapsed": false,
     "input": [
      "import os.path\n",
      "for match_id in matches:\n",
      "    wicket_data = json.load(open('worldcup_data/%s-pie-wickets.json'%(match_id)))\n",
      "    df = pd.io.json.read_json('worldcup_data/%s-wagon-inning-1.json'%(match_id), dtype=False)    \n",
      "    df['inning'] = 1\n",
      "    df['batting_team'] = wicket_data['t1']['n']\n",
      "    df['bowling_team'] = wicket_data['t2']['n']\n",
      "\n",
      "    df2 = pd.io.json.read_json('worldcup_data/%s-wagon-inning-2.json'%(match_id), dtype=False)\n",
      "    df2['inning'] = 2\n",
      "    df2['batting_team'] = wicket_data['t2']['n']\n",
      "    df2['bowling_team'] = wicket_data['t1']['n']\n",
      "\n",
      "    df['batsman'], df['bowler'], df['ball_num'], df['ovr'], df['runs_batter'], df['runs_w_extras'], df['x'], df['y'], df['z'], df['comm'] = zip(*df.runs.apply(f))\n",
      "    df2['batsman'], df2['bowler'], df2['ball_num'], df2['ovr'], df2['runs_batter'], df2['runs_w_extras'], df2['x'], df2['y'], df2['z'], df2['comm'] = zip(*df2.runs.apply(f))\n",
      "    \n",
      "    for param in ['ball_num', 'ovr', 'runs_batter', 'runs_w_extras', 'x', 'y', 'z']:\n",
      "        df[param] = df[param].astype(float)\n",
      "        df2[param] = df2[param].astype(float)\n",
      "    \n",
      "    df['cumul_runs'] = df['runs_w_extras'].cumsum()\n",
      "    df2['cumul_runs'] = df2['runs_w_extras'].cumsum()\n",
      "    \n",
      "    from collections import defaultdict\n",
      "    dismissals = defaultdict(dict)\n",
      "\n",
      "    for i in wicket_data['t1']['w']:\n",
      "        dismissals[float(i['ovr'])] = {'inning': 1, 'how': i['how'], 'ovr': float(i['ovr']), 'batsman': i['out'], 'bowler': i['outby']}\n",
      "\n",
      "    for i in wicket_data['t2']['w']:\n",
      "        dismissals[float(i['ovr'])] = {'inning': 2, 'how': i['how'], 'ovr': float(i['ovr']), 'batsman': i['out'], 'bowler': i['outby']}\n",
      "\n",
      "    def add_wickets(inning, ovr, batsman, extras, unique, dismissals = dismissals):\n",
      "        #Note: a run-out on a no-ball or wide will be double-counted\n",
      "        if ovr in dismissals and dismissals[ovr]['inning'] == inning:\n",
      "            if unique == 'True':\n",
      "                return True, dismissals[ovr]['how'], dismissals[ovr]['batsman']\n",
      "            else:\n",
      "                if dismissals[ovr]['how'] != 'run out':\n",
      "                    if extras == 0:\n",
      "                        return True, dismissals[ovr]['how'], dismissals[ovr]['batsman']\n",
      "                    else:\n",
      "                        return False, np.nan, np.nan\n",
      "                else:\n",
      "                    return True, dismissals[ovr]['how'], dismissals[ovr]['batsman'] #think of a better way later\n",
      "        return False, np.nan, np.nan\n",
      "    \n",
      "    val_count_1 = df.ovr.value_counts()\n",
      "    val_count_2 = df2.ovr.value_counts()\n",
      "    \n",
      "    def get_unique_1(i):\n",
      "        if val_count_1[i] == 1:\n",
      "            return True\n",
      "        return False\n",
      "    \n",
      "    def get_unique_2(i):\n",
      "        if val_count_2[i] == 1:\n",
      "            return True\n",
      "        return False\n",
      "    \n",
      "    df['ovr_unique'] = df.ovr.apply(get_unique_1)\n",
      "    df2['ovr_unique'] = df2.ovr.apply(get_unique_2)\n",
      "    df['extras'] = df['runs_w_extras'] - df['runs_batter']\n",
      "    df2['extras'] = df2['runs_w_extras'] - df2['runs_batter']\n",
      "    df['wicket'], df['wicket_method'], df['who_out'] = zip(*df.apply(lambda row: add_wickets(row['inning'], row['ovr'], row['batsman'], row['extras'], row['ovr_unique']), axis=1))\n",
      "    df2['wicket'], df2['wicket_method'], df2['who_out'] = zip(*df2.apply(lambda row: add_wickets(row['inning'], row['ovr'], row['batsman'], row['extras'], row['ovr_unique']), axis=1))\n",
      "    df['match_id'] = match_id\n",
      "    df2['match_id'] = match_id\n",
      "    \n",
      "    df = df.append(df2)    \n",
      "    df = df.drop('runs', axis=1)\n",
      "    df = df.reset_index(drop=True)\n",
      "    \n",
      "    if os.path.isfile('worldcup_data/%s_ball_details.txt'%(match_id)):\n",
      "        with open('worldcup_data/%s_ball_details.txt'%(match_id), 'r') as fil:\n",
      "            a = eval(fil.read()[8:-2])\n",
      "        l = []\n",
      "        for i in a[0]['data']:\n",
      "            temp = i.values()[0].split(',')\n",
      "            l.append({'non_striker': temp[1], 'ball_speed': temp[3], 'landing_y': temp[4], 'landing_x': temp[5],\n",
      "                      'bat_right_handed': temp[6], 'ended_x': temp[7], 'ended_y': temp[8],\n",
      "                      'control': int(temp[9] == 'N'), 'extras_type': temp[19]})\n",
      "        df2 = pd.DataFrame(l)\n",
      "        if len(df2) == len(df):\n",
      "            df = df.join(df2)\n",
      "        else:\n",
      "            print 'discrepancy', match_id\n",
      "    \n",
      "    player_db = {}\n",
      "\n",
      "    for d in wicket_data['t1']['p']:\n",
      "        player_db.update(d)\n",
      "\n",
      "    for d in wicket_data['t2']['p']:\n",
      "        player_db.update(d)\n",
      "\n",
      "    def get_name(i):\n",
      "        return player_db[i]\n",
      "\n",
      "    df['batsman_name'] = df['batsman'].apply(get_name)\n",
      "    df['bowler_name'] = df['bowler'].apply(get_name)\n",
      "    \n",
      "    if os.path.isfile('worldcup_data/%s_ball_details.txt'%(match_id)):\n",
      "        cols = ['inning', 'batting_team', 'bowling_team', 'batsman', 'bowler', 'batsman_name', 'non_striker', 'bowler_name', 'bat_right_handed', 'ovr', 'runs_batter', 'runs_w_extras', 'extras',\n",
      "            'x', 'y', 'z', 'landing_x', 'landing_y', 'ended_x', 'ended_y', 'ball_speed', 'cumul_runs', 'wicket', 'wicket_method', 'who_out', 'control', 'extras_type', 'comm']\n",
      "    else:\n",
      "        cols = ['inning', 'batting_team', 'bowling_team', 'batsman', 'bowler', 'batsman_name', 'bowler_name', 'ovr', 'runs_batter', 'runs_w_extras', 'extras',\n",
      "            'x', 'y', 'z', 'cumul_runs', 'wicket', 'wicket_method', 'who_out', 'comm']\n",
      "    df = df[cols]\n",
      "    df.to_csv('wc_cleaned_data/%s_summary.csv'%(match_id))\n",
      "    #print match_id\n",
      "print 'done!'"
     ],
     "language": "python",
     "metadata": {},
     "outputs": [
      {
       "output_type": "stream",
       "stream": "stdout",
       "text": [
        "done!\n"
       ]
      }
     ],
     "prompt_number": 5
    },
    {
     "cell_type": "code",
     "collapsed": false,
     "input": [],
     "language": "python",
     "metadata": {},
     "outputs": []
    }
   ],
   "metadata": {}
  }
 ]
}