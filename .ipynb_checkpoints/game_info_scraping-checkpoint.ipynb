{
 "metadata": {
  "name": "",
  "signature": "sha256:904d9618d3bb70655759cd4fd4a2173f30e275325a0855f0d0bb9eba699bda30"
 },
 "nbformat": 3,
 "nbformat_minor": 0,
 "worksheets": [
  {
   "cells": [
    {
     "cell_type": "heading",
     "level": 1,
     "metadata": {},
     "source": [
      "Ball-by-ball scraper for Cricinfo"
     ]
    },
    {
     "cell_type": "heading",
     "level": 3,
     "metadata": {},
     "source": [
      "Overall Data"
     ]
    },
    {
     "cell_type": "markdown",
     "metadata": {},
     "source": [
      "This scraper requests json files from cricinfo, which are then saved to a data folder"
     ]
    },
    {
     "cell_type": "code",
     "collapsed": false,
     "input": [
      "import requests\n",
      "import pandas as pd\n",
      "import json"
     ],
     "language": "python",
     "metadata": {},
     "outputs": [],
     "prompt_number": 1
    },
    {
     "cell_type": "code",
     "collapsed": false,
     "input": [
      "df = pd.read_csv('world_cup_2015_games.csv')"
     ],
     "language": "python",
     "metadata": {},
     "outputs": [],
     "prompt_number": 2
    },
    {
     "cell_type": "code",
     "collapsed": false,
     "input": [
      "matches = df.match_id.values\n",
      "matches = [str(i) for i in matches]"
     ],
     "language": "python",
     "metadata": {},
     "outputs": [],
     "prompt_number": 3
    },
    {
     "cell_type": "code",
     "collapsed": false,
     "input": [
      "matches[:1]"
     ],
     "language": "python",
     "metadata": {},
     "outputs": [
      {
       "metadata": {},
       "output_type": "pyout",
       "prompt_number": 4,
       "text": [
        "['656495']"
       ]
      }
     ],
     "prompt_number": 4
    },
    {
     "cell_type": "code",
     "collapsed": false,
     "input": [
      "for game_id in matches[:1]:\n",
      "    rel_id = str(int(game_id) - 603070)\n",
      "    try:\n",
      "        r = requests.get('http://dynamic.pulselive.com/dynamic/cricinfo/%s/uds.json.jgz'%rel_id).text\n",
      "        with open('worldcup_data/'+game_id+'_ball_details'+'.txt', 'w') as outfile:\n",
      "            outfile.write(r)\n",
      "    except:\n",
      "        print 'Failed', game_id\n",
      "    print game_id"
     ],
     "language": "python",
     "metadata": {},
     "outputs": [
      {
       "output_type": "stream",
       "stream": "stdout",
       "text": [
        "656495\n"
       ]
      }
     ],
     "prompt_number": 5
    },
    {
     "cell_type": "code",
     "collapsed": false,
     "input": [
      "for game_id in matches[:1]:\n",
      "    try:\n",
      "        r1 = requests.get('http://www.espncricinfo.com/ci/engine/match/gfx/%s.json?inning=1;template=wagon'%(game_id))\n",
      "        r2 = requests.get('http://www.espncricinfo.com/ci/engine/match/gfx/%s.json?inning=2;template=wagon'%(game_id))\n",
      "        #print r1.status_code\n",
      "        #print r2.status_code\n",
      "        with open('worldcup_data/'+game_id+'-wagon-inning-1.json', 'w') as outfile:\n",
      "            json.dump(r1.json(), outfile)\n",
      "\n",
      "        with open('worldcup_data/'+str(game_id)+'-wagon-inning-2.json', 'w') as outfile:\n",
      "            json.dump(r2.json(), outfile)\n",
      "\n",
      "        r = requests.get('http://www.espncricinfo.com/ci/engine/match/gfx/%s.json?template=pie_wickets'%(game_id))\n",
      "        with open('worldcup_data/'+game_id+'-pie-wickets.json', 'w') as outfile:\n",
      "            json.dump(r.json(), outfile)\n",
      "    except:\n",
      "        print 'Failed', game_id\n",
      "    \n",
      "    print game_id"
     ],
     "language": "python",
     "metadata": {},
     "outputs": [
      {
       "output_type": "stream",
       "stream": "stdout",
       "text": [
        "656495\n"
       ]
      }
     ],
     "prompt_number": 6
    },
    {
     "cell_type": "code",
     "collapsed": false,
     "input": [],
     "language": "python",
     "metadata": {},
     "outputs": []
    }
   ],
   "metadata": {}
  }
 ]
}